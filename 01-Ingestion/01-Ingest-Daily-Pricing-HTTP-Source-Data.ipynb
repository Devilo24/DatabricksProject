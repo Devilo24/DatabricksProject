{
 "cells": [
  {
   "cell_type": "markdown",
   "metadata": {
    "application/vnd.databricks.v1+cell": {
     "cellMetadata": {
      "byteLimit": 2048000,
      "rowLimit": 10000
     },
     "inputWidgets": {},
     "nuid": "85610ab2-648d-449b-af52-9a2638201bb5",
     "showTitle": false,
     "tableResultSettingsMap": {},
     "title": ""
    }
   },
   "source": [
    "%md\n",
    "####Notebook Name : 01-Ingest-Daily-Pricing-HTTP-Source-Data\n",
    "##### Source File Details\n",
    "Source File URL : \"https://retailpricing.blob.core.windows.net/daily-pricing\"\n",
    "\n",
    "Source File Ingestion Path : \"abfss://bronze@datalakestorageaccountname.dfs.core.windows.net/daily-pricing/\"\n",
    "\n",
    "##### Python Core Library Documentation\n",
    "- <a href=\"https://pandas.pydata.org/docs/user_guide/index.html#user-guide\" target=\"_blank\">pandas</a>\n",
    "- <a href=\"https://pypi.org/project/requests/\" target=\"_blank\">requests</a>\n",
    "- <a href=\"https://docs.python.org/3/library/csv.html\" target=\"_blank\">csv</a>\n",
    "\n",
    "##### Spark Methods\n",
    "- <a href=\"https://spark.apache.org/docs/latest/sql-getting-started.html#starting-point-sparksession\" target=\"_blank\">SparkSession</a>"
   ]
  },
  {
   "cell_type": "code",
   "execution_count": 0,
   "metadata": {
    "application/vnd.databricks.v1+cell": {
     "cellMetadata": {
      "byteLimit": 2048000,
      "rowLimit": 10000
     },
     "inputWidgets": {},
     "nuid": "46dca4f2-e91e-4d18-ba05-bcdc96a31481",
     "showTitle": false,
     "tableResultSettingsMap": {},
     "title": ""
    }
   },
   "outputs": [],
   "source": [
    "processName = dbutils.widgets.get('prm_processName')\n",
    "\n",
    "nextSourceFileDateSql = f\"\"\"SELECT NVL(MAX(PROCESSED_FILE_TABLE_DATE)+1,'2023-01-01') AS NEXT_SOURCE_FILE_DATE FROM pricing_analytics.processrunlogs.DELTALAKEHOUSE_PROCESS_RUNS \n",
    "WHERE PROCESS_NAME = '{processName}' AND PROCESS_STATUS = 'Completed'\"\"\"\n",
    "\n",
    "nextSourceFileDateDF = spark.sql(nextSourceFileDateSql)\n"
   ]
  },
  {
   "cell_type": "code",
   "execution_count": 0,
   "metadata": {
    "application/vnd.databricks.v1+cell": {
     "cellMetadata": {
      "byteLimit": 2048000,
      "rowLimit": 10000
     },
     "inputWidgets": {},
     "nuid": "fef8dd57-ff09-4aa2-acdc-04fd7b06600f",
     "showTitle": false,
     "tableResultSettingsMap": {},
     "title": ""
    }
   },
   "outputs": [],
   "source": [
    "from datetime import datetime"
   ]
  },
  {
   "cell_type": "code",
   "execution_count": 0,
   "metadata": {
    "application/vnd.databricks.v1+cell": {
     "cellMetadata": {
      "byteLimit": 2048000,
      "rowLimit": 10000
     },
     "inputWidgets": {},
     "nuid": "852d94d9-7eb0-4b91-9357-8b31f8a2ef54",
     "showTitle": false,
     "tableResultSettingsMap": {},
     "title": ""
    }
   },
   "outputs": [],
   "source": [
    "dailyPricingSourceBaseURL = 'https://retailpricing.blob.core.windows.net/'\n",
    "dailyPricingSourceFolder = 'daily-pricing/'\n",
    "dailyPricingSourceFileDate = (datetime.strptime(str(nextSourceFileDateDF.select('NEXT_SOURCE_FILE_DATE').collect()[0]['NEXT_SOURCE_FILE_DATE']),'%Y-%m-%d')).strftime('%d%m%Y')\n",
    "dailyPricingSourceFileName = f\"PW_MW_DR_{dailyPricingSourceFileDate}.csv\"\n",
    "\n",
    "dailyPricingSinkLayerName = 'bronze'\n",
    "dailyPricingSinkStorageAccountName= 'adlsdatalkehousedev'\n",
    "dailyPricingSinkFolderName ='daily-pricing'"
   ]
  },
  {
   "cell_type": "code",
   "execution_count": 0,
   "metadata": {
    "application/vnd.databricks.v1+cell": {
     "cellMetadata": {
      "byteLimit": 2048000,
      "rowLimit": 10000
     },
     "inputWidgets": {},
     "nuid": "3c08832b-7051-4695-aed9-723bf5b3b323",
     "showTitle": false,
     "tableResultSettingsMap": {},
     "title": ""
    }
   },
   "outputs": [],
   "source": [
    "import pandas as pds"
   ]
  },
  {
   "cell_type": "code",
   "execution_count": 0,
   "metadata": {
    "application/vnd.databricks.v1+cell": {
     "cellMetadata": {
      "byteLimit": 2048000,
      "rowLimit": 10000
     },
     "inputWidgets": {},
     "nuid": "5245457c-4e73-43de-b5b4-e8cbe3665edc",
     "showTitle": false,
     "tableResultSettingsMap": {},
     "title": ""
    }
   },
   "outputs": [],
   "source": [
    "dailyPricingSourceURL = dailyPricingSourceBaseURL + dailyPricingSourceFolder + dailyPricingSourceFileName"
   ]
  },
  {
   "cell_type": "code",
   "execution_count": 0,
   "metadata": {
    "application/vnd.databricks.v1+cell": {
     "cellMetadata": {
      "byteLimit": 2048000,
      "rowLimit": 10000
     },
     "inputWidgets": {},
     "nuid": "7eec4617-9a37-4dd6-8605-d91666adbe85",
     "showTitle": false,
     "tableResultSettingsMap": {},
     "title": ""
    }
   },
   "outputs": [],
   "source": [
    "dailyPricingPandasDF = pds.read_csv(dailyPricingSourceURL)"
   ]
  },
  {
   "cell_type": "code",
   "execution_count": 0,
   "metadata": {
    "application/vnd.databricks.v1+cell": {
     "cellMetadata": {
      "byteLimit": 2048000,
      "rowLimit": 10000
     },
     "inputWidgets": {},
     "nuid": "b78bd941-1474-4b1a-91ce-e7672b1e48ff",
     "showTitle": false,
     "tableResultSettingsMap": {},
     "title": ""
    }
   },
   "outputs": [],
   "source": [
    "dailyPricingSparkDF = spark.createDataFrame(dailyPricingPandasDF)"
   ]
  },
  {
   "cell_type": "code",
   "execution_count": 0,
   "metadata": {
    "application/vnd.databricks.v1+cell": {
     "cellMetadata": {
      "byteLimit": 2048000,
      "rowLimit": 10000
     },
     "inputWidgets": {},
     "nuid": "c8acb08a-879e-4aed-811d-32d201d5ed8e",
     "showTitle": false,
     "tableResultSettingsMap": {},
     "title": ""
    }
   },
   "outputs": [],
   "source": [
    "from pyspark.sql.functions import current_timestamp\n",
    "dailyPricingSinkFolderPath = f\"abfss://{dailyPricingSinkLayerName}@{dailyPricingSinkStorageAccountName}.dfs.core.windows.net/{dailyPricingSinkFolderName}\"\n",
    "\n",
    "(\n",
    "    dailyPricingSparkDF\n",
    "    .withColumn(\"source_file_load_date\",current_timestamp())\n",
    "    .write\n",
    "    .mode(\"append\")\n",
    "    .option(\"header\",\"true\")\n",
    "    .csv(dailyPricingSinkFolderPath)\n",
    ")"
   ]
  },
  {
   "cell_type": "code",
   "execution_count": 0,
   "metadata": {
    "application/vnd.databricks.v1+cell": {
     "cellMetadata": {
      "byteLimit": 2048000,
      "rowLimit": 10000
     },
     "inputWidgets": {},
     "nuid": "9d5fa918-dab9-4e0c-9230-22438996f4e8",
     "showTitle": false,
     "tableResultSettingsMap": {},
     "title": ""
    }
   },
   "outputs": [],
   "source": [
    "\n",
    "processFileDate = nextSourceFileDateDF.select('NEXT_SOURCE_FILE_DATE').collect()[0]['NEXT_SOURCE_FILE_DATE']\n",
    "processStatus ='Completed'\n",
    "\n",
    "processInsertSQL =f\"\"\" INSERT INTO pricing_analytics.processrunlogs.DELTALAKEHOUSE_PROCESS_RUNS(PROCESS_NAME,PROCESSED_FILE_TABLE_DATE,PROCESS_STATUS) VALUES('{processName}','{processFileDate}','{processStatus}')\"\"\"\n",
    "\n",
    "spark.sql(processInsertSQL)"
   ]
  }
 ],
 "metadata": {
  "application/vnd.databricks.v1+notebook": {
   "computePreferences": null,
   "dashboards": [],
   "environmentMetadata": {
    "base_environment": "",
    "environment_version": "2"
   },
   "inputWidgetPreferences": null,
   "language": "python",
   "notebookMetadata": {
    "mostRecentlyExecutedCommandWithImplicitDF": {
     "commandId": 8860326186894986,
     "dataframes": [
      "_sqldf"
     ]
    },
    "pythonIndentUnit": 4
   },
   "notebookName": "01-Ingest-Daily-Pricing-HTTP-Source-Data",
   "widgets": {
    "prm_processName": {
     "currentValue": "dailyPricingSourceIngest",
     "nuid": "435d8f40-f0c4-4862-89fa-9889782dfa82",
     "typedWidgetInfo": {
      "autoCreated": false,
      "defaultValue": "",
      "label": "",
      "name": "prm_processName",
      "options": {
       "widgetDisplayType": "Text",
       "validationRegex": null
      },
      "parameterDataType": "String"
     },
     "widgetInfo": {
      "widgetType": "text",
      "defaultValue": "",
      "label": "",
      "name": "prm_processName",
      "options": {
       "widgetType": "text",
       "autoCreated": false,
       "validationRegex": null
      }
     }
    }
   }
  },
  "language_info": {
   "name": "python"
  }
 },
 "nbformat": 4,
 "nbformat_minor": 0
}
