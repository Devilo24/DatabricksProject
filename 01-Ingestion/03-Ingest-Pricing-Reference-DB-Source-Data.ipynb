{
 "cells": [
  {
   "cell_type": "markdown",
   "metadata": {
    "application/vnd.databricks.v1+cell": {
     "cellMetadata": {
      "byteLimit": 2048000,
      "rowLimit": 10000
     },
     "inputWidgets": {},
     "nuid": "d3e7a57a-29ec-45c9-8b0c-000f52375b91",
     "showTitle": false,
     "tableResultSettingsMap": {},
     "title": ""
    }
   },
   "source": [
    "####Notebook Name : 03-Ingest-Pricing-Reference-DB-Source-Data\n",
    "##### Source Table Details\n",
    "Source Tables:\n",
    "masterdata.market_address\n",
    "masterdata.country_profile\n",
    "masterdata.exchange_rates\n",
    "masterdata.domestic_product_codes\n",
    "masterdata.global_item_codes\n",
    "\n",
    "\n",
    "##### Source Tables Ingestion Path In Bronze Layer:\n",
    " \"abfss://bronze@datalakestorageaccountname.dfs.core.windows.net/reference-data/\"\n",
    "\n",
    "\n"
   ]
  },
  {
   "cell_type": "code",
   "execution_count": 0,
   "metadata": {
    "application/vnd.databricks.v1+cell": {
     "cellMetadata": {
      "byteLimit": 2048000,
      "rowLimit": 10000
     },
     "inputWidgets": {},
     "nuid": "81321f9f-2c2c-4fe9-a85d-ac48bfcb6096",
     "showTitle": false,
     "tableResultSettingsMap": {},
     "title": ""
    }
   },
   "outputs": [],
   "source": [
    "pricingReferenceSourceTableName = dbutils.widgets.get(\"prm_pricingReferenceSourceTableName\")\n",
    "\n",
    "pricingReferenceSinkLayerName = 'bronze'\n",
    "pricingReferenceSinkStorageAccountName= 'adlsdatalkehousedev'\n",
    "pricingReferenceSinkFolderName ='reference-data'"
   ]
  },
  {
   "cell_type": "code",
   "execution_count": 0,
   "metadata": {
    "application/vnd.databricks.v1+cell": {
     "cellMetadata": {
      "byteLimit": 2048000,
      "rowLimit": 10000
     },
     "inputWidgets": {},
     "nuid": "e9167c6d-771b-40fa-8c7f-24056087c8f3",
     "showTitle": false,
     "tableResultSettingsMap": {},
     "title": ""
    }
   },
   "outputs": [],
   "source": [
    "JDBCconnectionUrl = \"jdbc:sqlserver://asqludacoursesserver.database.windows.net;encrypt=true;databaseName=asqludacourses;user=sourcereader;password=DBReader@2024\";\n",
    "\n",
    "pricingReferenceSourceTableDF = (spark\n",
    "                                 .read\n",
    "                                 .format('jdbc')\n",
    "                                 .option('url',JDBCconnectionUrl)\n",
    "                                 .option('dbtable',pricingReferenceSourceTableName)\n",
    "                                 .load()\n",
    "\n",
    ")"
   ]
  },
  {
   "cell_type": "code",
   "execution_count": 0,
   "metadata": {
    "application/vnd.databricks.v1+cell": {
     "cellMetadata": {
      "byteLimit": 2048000,
      "rowLimit": 10000
     },
     "inputWidgets": {},
     "nuid": "d752b7d7-1588-48c5-a026-e80fcc5b0b35",
     "showTitle": false,
     "tableResultSettingsMap": {},
     "title": ""
    }
   },
   "outputs": [],
   "source": [
    "pricingReferenceSinkTableFolder = pricingReferenceSourceTableName.replace('.','/')"
   ]
  },
  {
   "cell_type": "code",
   "execution_count": 0,
   "metadata": {
    "application/vnd.databricks.v1+cell": {
     "cellMetadata": {
      "byteLimit": 2048000,
      "rowLimit": 10000
     },
     "inputWidgets": {},
     "nuid": "ad50c059-0701-4e62-89f5-913fd7681605",
     "showTitle": false,
     "tableResultSettingsMap": {},
     "title": ""
    }
   },
   "outputs": [],
   "source": [
    "pricingReferenceSinkFolderPath = f\"abfss://{pricingReferenceSinkLayerName}@{pricingReferenceSinkStorageAccountName}.dfs.core.windows.net/{pricingReferenceSinkFolderName}/{pricingReferenceSinkTableFolder}\"\n",
    "\n",
    "(\n",
    "    pricingReferenceSourceTableDF\n",
    "    .write\n",
    "    .mode(\"overwrite\")\n",
    "    .json(pricingReferenceSinkFolderPath)\n",
    ")\n"
   ]
  }
 ],
 "metadata": {
  "application/vnd.databricks.v1+notebook": {
   "computePreferences": null,
   "dashboards": [],
   "environmentMetadata": {
    "base_environment": "",
    "environment_version": "2"
   },
   "inputWidgetPreferences": null,
   "language": "python",
   "notebookMetadata": {
    "pythonIndentUnit": 4
   },
   "notebookName": "03-Ingest-Pricing-Reference-DB-Source-Data",
   "widgets": {
    "prm_pricingReferenceSourceTableName": {
     "currentValue": "masterdata.market_address",
     "nuid": "d3092e61-5aa7-4abf-952f-d9b0350bd0ab",
     "typedWidgetInfo": {
      "autoCreated": false,
      "defaultValue": "",
      "label": "",
      "name": "prm_pricingReferenceSourceTableName",
      "options": {
       "widgetDisplayType": "Text",
       "validationRegex": null
      },
      "parameterDataType": "String"
     },
     "widgetInfo": {
      "widgetType": "text",
      "defaultValue": "",
      "label": "",
      "name": "prm_pricingReferenceSourceTableName",
      "options": {
       "widgetType": "text",
       "autoCreated": false,
       "validationRegex": null
      }
     }
    }
   }
  },
  "language_info": {
   "name": "python"
  }
 },
 "nbformat": 4,
 "nbformat_minor": 0
}
