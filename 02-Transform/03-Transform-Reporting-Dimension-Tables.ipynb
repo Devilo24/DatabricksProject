{
 "cells": [
  {
   "cell_type": "markdown",
   "metadata": {
    "application/vnd.databricks.v1+cell": {
     "cellMetadata": {
      "byteLimit": 2048000,
      "rowLimit": 10000
     },
     "inputWidgets": {},
     "nuid": "7ea7b214-8dcb-4c80-ab4e-9ab328a75410",
     "showTitle": false,
     "tableResultSettingsMap": {},
     "title": ""
    }
   },
   "source": [
    "| SOURCE_TABLE_NAME | SOURCE_COLUMN_NAME | REPORTING_TABLE_NAME | REPORTING_COLUMN_NAME | TRANSFORMATION RULE | CONDITIONS |\n",
    "| --- | --- |--- | --- |--- |--- |\n",
    "| silver.daily_pricing_silver\t| state_name\t|***REPORTING_DIM_STATE_GOLD***\t|***STATE_NAME***\t| Select Unique state_name Values | Identify New/Changed Records From the Source Table . Use ***lakehouse_updated_date Column*** in source table to Identify New/Changed Records|\n",
    "| DERIVED\t| DERIVED\t|***REPORTING_DIM_STATE_GOLD***\t| ***STATE_ID***\t| Generate Running Sequnece ID For Each Unique state_name Values | 1. Make Sure No Duplicate State_Name Values Loaded 2.  When loading new State_Name values in subsquent run , STATE_ID values need to be generated on top of existing MAX(STATE_ID)   |\n",
    "| DERIVED\t| DERIVED\t|***REPORTING_DIM_STATE_GOLD***\t| ***lakehouse_inserted_date***\t| Load current_timestamp() | |\n",
    "| DERIVED\t| DERIVED\t|***REPORTING_DIM_STATE_GOLD***\t| ***lakehouse_updated_date***\t| Load current_timestamp() | |"
   ]
  },
  {
   "cell_type": "code",
   "execution_count": 0,
   "metadata": {
    "application/vnd.databricks.v1+cell": {
     "cellMetadata": {
      "byteLimit": 2048000,
      "rowLimit": 10000
     },
     "inputWidgets": {},
     "nuid": "777581ae-d5de-4852-9e83-20de54c56d71",
     "showTitle": false,
     "tableResultSettingsMap": {},
     "title": ""
    }
   },
   "outputs": [],
   "source": [
    "USE CATALOG pricing_analytics;\n",
    "\n",
    "CREATE OR REPLACE TABLE silver.reporting_dim_state_stage_1 AS\n",
    "SELECT \n",
    "DISTINCT STATE_NAME \n",
    "FROM silver.daily_pricing_silver\n",
    "WHERE lakehouse_updated_date >(SELECT nvl(max(PROCESSED_TABLE_DATETIME),'1900-01-01') FROM processrunlogs.deltalakehouse_process_runs WHERE PROCESS_NAME = 'reportingDimensionTablesLoad' AND PROCESS_STATUS = 'Completed')"
   ]
  },
  {
   "cell_type": "code",
   "execution_count": 0,
   "metadata": {
    "application/vnd.databricks.v1+cell": {
     "cellMetadata": {
      "byteLimit": 2048000,
      "rowLimit": 10000
     },
     "inputWidgets": {},
     "nuid": "992f8e4d-1dbf-4a51-974f-a8bd92cd5abd",
     "showTitle": false,
     "tableResultSettingsMap": {},
     "title": ""
    }
   },
   "outputs": [],
   "source": [
    "CREATE OR REPLACE TABLE silver.reporting_dim_market_stage_1 AS\n",
    "SELECT \n",
    "DISTINCT MARKET_NAME\n",
    "FROM silver.daily_pricing_silver\n",
    "WHERE lakehouse_updated_date >(SELECT nvl(max(PROCESSED_TABLE_DATETIME),'1900-01-01') FROM processrunlogs.deltalakehouse_process_runs WHERE PROCESS_NAME = 'reportingDimensionTablesLoad' AND PROCESS_STATUS = 'Completed')"
   ]
  },
  {
   "cell_type": "code",
   "execution_count": 0,
   "metadata": {
    "application/vnd.databricks.v1+cell": {
     "cellMetadata": {
      "byteLimit": 2048000,
      "rowLimit": 10000
     },
     "inputWidgets": {},
     "nuid": "6c08d131-64ca-4bd8-b8ce-3365a10e6028",
     "showTitle": false,
     "tableResultSettingsMap": {},
     "title": ""
    }
   },
   "outputs": [],
   "source": [
    "CREATE OR REPLACE TABLE silver.reporting_dim_variety_stage_1 AS\n",
    "SELECT \n",
    "DISTINCT VARIETY\n",
    "FROM silver.daily_pricing_silver\n",
    "WHERE lakehouse_updated_date >(SELECT nvl(max(PROCESSED_TABLE_DATETIME),'1900-01-01') FROM processrunlogs.deltalakehouse_process_runs WHERE PROCESS_NAME = 'reportingDimensionTablesLoad' AND PROCESS_STATUS = 'Completed')"
   ]
  },
  {
   "cell_type": "code",
   "execution_count": 0,
   "metadata": {
    "application/vnd.databricks.v1+cell": {
     "cellMetadata": {
      "byteLimit": 2048000,
      "rowLimit": 10000
     },
     "inputWidgets": {},
     "nuid": "c7e78823-647a-4e5b-a818-99337ff3b222",
     "showTitle": false,
     "tableResultSettingsMap": {},
     "title": ""
    }
   },
   "outputs": [],
   "source": [
    "CREATE OR REPLACE TABLE silver.reporting_dim_product_stage_1 AS\n",
    "SELECT \n",
    "DISTINCT PRODUCT_NAME,\n",
    "PRODUCTGROUP_NAME\n",
    "FROM silver.daily_pricing_silver\n",
    "WHERE lakehouse_updated_date >(SELECT nvl(max(PROCESSED_TABLE_DATETIME),'1900-01-01') FROM processrunlogs.deltalakehouse_process_runs WHERE PROCESS_NAME = 'reportingDimensionTablesLoad' AND PROCESS_STATUS = 'Completed')"
   ]
  },
  {
   "cell_type": "code",
   "execution_count": 0,
   "metadata": {
    "application/vnd.databricks.v1+cell": {
     "cellMetadata": {
      "byteLimit": 2048000,
      "rowLimit": 10000
     },
     "inputWidgets": {},
     "nuid": "96f9bbc9-aa73-42c3-8878-80874164da62",
     "showTitle": false,
     "tableResultSettingsMap": {},
     "title": ""
    }
   },
   "outputs": [],
   "source": [
    "CREATE OR REPLACE TABLE silver.reporting_dim_state_stage_2 AS\n",
    "SELECT \n",
    "  silverDim.STATE_NAME,\n",
    "  ROW_NUMBER() OVER(ORDER BY silverDim.STATE_NAME) AS STATE_ID,\n",
    "  current_timestamp() as lakehouse_inserted_date,\n",
    "  current_timestamp() as lakehouse_updated_date\n",
    "FROM silver.reporting_dim_state_stage_1 silverDim\n",
    "LEFT OUTER JOIN gold.reporting_dim_state_gold goldDim\n",
    "ON silverDim.STATE_NAME = goldDim.STATE_NAME\n",
    "WHERE goldDim.STATE_NAME IS NULL"
   ]
  },
  {
   "cell_type": "code",
   "execution_count": 0,
   "metadata": {
    "application/vnd.databricks.v1+cell": {
     "cellMetadata": {
      "byteLimit": 2048000,
      "rowLimit": 10000
     },
     "inputWidgets": {},
     "nuid": "91368f77-15da-403a-a233-3e55e499294b",
     "showTitle": false,
     "tableResultSettingsMap": {},
     "title": ""
    }
   },
   "outputs": [],
   "source": [
    "CREATE OR REPLACE TABLE silver.reporting_dim_market_stage_2 AS\n",
    "SELECT \n",
    "  silverDim.MARKET_NAME,\n",
    "  ROW_NUMBER() OVER(ORDER BY silverDim.MARKET_NAME) AS MARKET_ID,\n",
    "  current_timestamp() as lakehouse_inserted_date,\n",
    "  current_timestamp() as lakehouse_updated_date\n",
    "FROM silver.reporting_dim_market_stage_1 silverDim\n",
    "LEFT OUTER JOIN gold.reporting_dim_market_gold goldDim\n",
    "ON silverDim.MARKET_NAME = goldDim.MARKET_NAME\n",
    "WHERE goldDim.MARKET_NAME IS NULL"
   ]
  },
  {
   "cell_type": "code",
   "execution_count": 0,
   "metadata": {
    "application/vnd.databricks.v1+cell": {
     "cellMetadata": {
      "byteLimit": 2048000,
      "rowLimit": 10000
     },
     "inputWidgets": {},
     "nuid": "0eebeca0-1dd9-40ab-ae9c-2a03f4e47154",
     "showTitle": false,
     "tableResultSettingsMap": {},
     "title": ""
    }
   },
   "outputs": [],
   "source": [
    "CREATE OR REPLACE TABLE silver.reporting_dim_variety_stage_2 AS\n",
    "SELECT \n",
    "  silverDim.VARIETY,\n",
    "  ROW_NUMBER() OVER(ORDER BY silverDim.VARIETY) AS VARIETY_ID,\n",
    "  current_timestamp() as lakehouse_inserted_date,\n",
    "  current_timestamp() as lakehouse_updated_date\n",
    "FROM silver.reporting_dim_variety_stage_1 silverDim\n",
    "LEFT OUTER JOIN gold.reporting_dim_variety_gold goldDim\n",
    "ON silverDim.VARIETY = goldDim.VARIETY\n",
    "WHERE goldDim.VARIETY IS NULL"
   ]
  },
  {
   "cell_type": "code",
   "execution_count": 0,
   "metadata": {
    "application/vnd.databricks.v1+cell": {
     "cellMetadata": {
      "byteLimit": 2048000,
      "rowLimit": 10000
     },
     "inputWidgets": {},
     "nuid": "5e919579-ba05-4ff5-96ce-a7f1d441ea9a",
     "showTitle": false,
     "tableResultSettingsMap": {},
     "title": ""
    }
   },
   "outputs": [],
   "source": [
    "CREATE OR REPLACE TABLE silver.reporting_dim_product_stage_2 AS\n",
    "SELECT \n",
    "  silverDim.PRODUCT_NAME,\n",
    "  silverDim.PRODUCTGROUP_NAME,\n",
    "  ROW_NUMBER() OVER(ORDER BY silverDim.PRODUCT_NAME, silverDim.PRODUCTGROUP_NAME) AS PRODUCT_ID,\n",
    "  current_timestamp() as lakehouse_inserted_date,\n",
    "  current_timestamp() as lakehouse_updated_date\n",
    "FROM silver.reporting_dim_product_stage_1 silverDim\n",
    "LEFT OUTER JOIN gold.reporting_dim_product_gold goldDim\n",
    "ON silverDim.PRODUCT_NAME = goldDim.PRODUCT_NAME AND silverDim.PRODUCTGROUP_NAME = goldDim.PRODUCTGROUP_NAME\n",
    "WHERE goldDim.PRODUCT_NAME IS NULL"
   ]
  },
  {
   "cell_type": "code",
   "execution_count": 0,
   "metadata": {
    "application/vnd.databricks.v1+cell": {
     "cellMetadata": {
      "byteLimit": 2048000,
      "rowLimit": 10000
     },
     "inputWidgets": {},
     "nuid": "677c3473-21e1-4325-9f46-1f0f3ff25e50",
     "showTitle": false,
     "tableResultSettingsMap": {},
     "title": ""
    }
   },
   "outputs": [],
   "source": [
    "CREATE OR REPLACE TABLE silver.reporting_dim_state_stage_3 AS\n",
    "SELECT \n",
    "  silverDim.STATE_NAME,\n",
    "  silverDim.STATE_ID + PREV_MAX_SK_ID AS STATE_ID,\n",
    "  current_timestamp() as lakehouse_inserted_date,\n",
    "  current_timestamp() as lakehouse_updated_date\n",
    "FROM silver.reporting_dim_state_stage_2 silverDim\n",
    "CROSS JOIN (SELECT NVL(MAX(STATE_ID),0) AS PREV_MAX_SK_ID FROM gold.reporting_dim_state_gold) goldDim\n",
    "\n"
   ]
  },
  {
   "cell_type": "code",
   "execution_count": 0,
   "metadata": {
    "application/vnd.databricks.v1+cell": {
     "cellMetadata": {
      "byteLimit": 2048000,
      "rowLimit": 10000
     },
     "inputWidgets": {},
     "nuid": "9d30502f-4f4f-4a8d-aa55-2ff080ac46b1",
     "showTitle": false,
     "tableResultSettingsMap": {},
     "title": ""
    }
   },
   "outputs": [],
   "source": [
    "CREATE OR REPLACE TABLE silver.reporting_dim_market_stage_3 AS\n",
    "SELECT \n",
    "  silverDim.MARKET_NAME,\n",
    "  silverDim.MARKET_ID + PREV_MAX_SK_ID AS MARKET_ID,\n",
    "  current_timestamp() as lakehouse_inserted_date,\n",
    "  current_timestamp() as lakehouse_updated_date\n",
    "FROM \n",
    "silver.reporting_dim_market_stage_2 silverDim\n",
    "CROSS JOIN (SELECT NVL(MAX(MARKET_ID),0) AS PREV_MAX_SK_ID FROM gold.reporting_dim_market_gold) goldDim\n"
   ]
  },
  {
   "cell_type": "code",
   "execution_count": 0,
   "metadata": {
    "application/vnd.databricks.v1+cell": {
     "cellMetadata": {
      "byteLimit": 2048000,
      "rowLimit": 10000
     },
     "inputWidgets": {},
     "nuid": "5a904718-7019-43f7-96a9-c8c452b32e2e",
     "showTitle": false,
     "tableResultSettingsMap": {},
     "title": ""
    }
   },
   "outputs": [],
   "source": [
    "CREATE OR REPLACE TABLE silver.reporting_dim_variety_stage_3 AS\n",
    "SELECT \n",
    "  silverDim.VARIETY,\n",
    "  silverDim.VARIETY_ID + PREV_MAX_SK_ID AS VARIETY_ID,\n",
    "  current_timestamp() as lakehouse_inserted_date,\n",
    "  current_timestamp() as lakehouse_updated_date\n",
    "FROM \n",
    "silver.reporting_dim_variety_stage_2 silverDim\n",
    "CROSS JOIN (SELECT NVL(MAX(VARIETY_ID),0) AS PREV_MAX_SK_ID FROM gold.reporting_dim_variety_gold) goldDim\n"
   ]
  },
  {
   "cell_type": "code",
   "execution_count": 0,
   "metadata": {
    "application/vnd.databricks.v1+cell": {
     "cellMetadata": {
      "byteLimit": 2048000,
      "rowLimit": 10000
     },
     "inputWidgets": {},
     "nuid": "029f2d2c-2b81-4872-917c-cabcf92abb2e",
     "showTitle": false,
     "tableResultSettingsMap": {},
     "title": ""
    }
   },
   "outputs": [],
   "source": [
    "CREATE OR REPLACE TABLE silver.reporting_dim_product_stage_3 AS\n",
    "SELECT \n",
    "  silverDim.PRODUCT_NAME,\n",
    "  silverDim.PRODUCTGROUP_NAME,\n",
    "  silverDim.PRODUCT_ID + PREV_MAX_SK_ID AS PRODUCT_ID,\n",
    "  PREV_MAX_SK_ID,\n",
    "  current_timestamp() as lakehouse_inserted_date,\n",
    "  current_timestamp() as lakehouse_updated_date\n",
    "FROM \n",
    "silver.reporting_dim_product_stage_2 silverDim\n",
    "CROSS JOIN (SELECT NVL(MAX(PRODUCT_ID),0) AS PREV_MAX_SK_ID FROM gold.reporting_dim_product_gold) goldDim\n"
   ]
  },
  {
   "cell_type": "code",
   "execution_count": 0,
   "metadata": {
    "application/vnd.databricks.v1+cell": {
     "cellMetadata": {
      "byteLimit": 2048000,
      "rowLimit": 10000
     },
     "inputWidgets": {},
     "nuid": "bae32b25-07c5-44bf-b2da-8488f851dce1",
     "showTitle": false,
     "tableResultSettingsMap": {},
     "title": ""
    }
   },
   "outputs": [],
   "source": [
    "INSERT INTO gold.reporting_dim_state_gold\n",
    "SELECT\n",
    "STATE_NAME,\n",
    "STATE_ID,\n",
    "current_timestamp(),\n",
    "current_timestamp()\n",
    "FROM silver.reporting_dim_state_stage_3"
   ]
  },
  {
   "cell_type": "code",
   "execution_count": 0,
   "metadata": {
    "application/vnd.databricks.v1+cell": {
     "cellMetadata": {
      "byteLimit": 2048000,
      "rowLimit": 10000
     },
     "inputWidgets": {},
     "nuid": "5ad43d56-1ad6-4a61-8743-27731244d767",
     "showTitle": false,
     "tableResultSettingsMap": {},
     "title": ""
    }
   },
   "outputs": [],
   "source": [
    "INSERT INTO gold.reporting_dim_market_gold\n",
    "SELECT\n",
    "MARKET_NAME,\n",
    "MARKET_ID,\n",
    "current_timestamp(),\n",
    "current_timestamp()\n",
    "FROM silver.reporting_dim_market_stage_3"
   ]
  },
  {
   "cell_type": "code",
   "execution_count": 0,
   "metadata": {
    "application/vnd.databricks.v1+cell": {
     "cellMetadata": {
      "byteLimit": 2048000,
      "rowLimit": 10000
     },
     "inputWidgets": {},
     "nuid": "04bcd544-ca89-48c7-aef6-57d23040d648",
     "showTitle": false,
     "tableResultSettingsMap": {},
     "title": ""
    }
   },
   "outputs": [],
   "source": [
    "INSERT INTO gold.reporting_dim_variety_gold\n",
    "SELECT\n",
    "VARIETY,\n",
    "VARIETY_ID,\n",
    "current_timestamp(),\n",
    "current_timestamp()\n",
    "FROM silver.reporting_dim_variety_stage_3"
   ]
  },
  {
   "cell_type": "code",
   "execution_count": 0,
   "metadata": {
    "application/vnd.databricks.v1+cell": {
     "cellMetadata": {
      "byteLimit": 2048000,
      "rowLimit": 10000
     },
     "inputWidgets": {},
     "nuid": "b0b112f4-4c97-4de5-a7cf-ee65ae8fe183",
     "showTitle": false,
     "tableResultSettingsMap": {},
     "title": ""
    }
   },
   "outputs": [],
   "source": [
    "INSERT INTO gold.reporting_dim_product_gold\n",
    "SELECT\n",
    "  PRODUCTGROUP_NAME,\n",
    "  PRODUCT_NAME,\n",
    "  PRODUCT_ID,\n",
    "  current_timestamp(),\n",
    "  current_timestamp()\n",
    "FROM silver.reporting_dim_product_stage_3"
   ]
  },
  {
   "cell_type": "code",
   "execution_count": 0,
   "metadata": {
    "application/vnd.databricks.v1+cell": {
     "cellMetadata": {
      "byteLimit": 2048000,
      "rowLimit": 10000
     },
     "inputWidgets": {},
     "nuid": "2115cf18-b422-474e-98c4-e9e980cae819",
     "showTitle": false,
     "tableResultSettingsMap": {},
     "title": ""
    }
   },
   "outputs": [],
   "source": [
    "INSERT INTO pricing_analytics.processrunlogs.deltalakehouse_process_runs(PROCESS_NAME,PROCESSED_TABLE_DATETIME,PROCESS_STATUS)\n",
    "SELECT 'reportingDimensionTablesLoad',max(lakehouse_updated_date),'Completed' FROM pricing_analytics.silver.daily_pricing_silver"
   ]
  }
 ],
 "metadata": {
  "application/vnd.databricks.v1+notebook": {
   "computePreferences": null,
   "dashboards": [],
   "environmentMetadata": {
    "base_environment": "",
    "environment_version": "2"
   },
   "inputWidgetPreferences": null,
   "language": "sql",
   "notebookMetadata": {
    "pythonIndentUnit": 4
   },
   "notebookName": "03-Transform-Reporting-Dimension-Tables",
   "widgets": {}
  },
  "language_info": {
   "name": "sql"
  }
 },
 "nbformat": 4,
 "nbformat_minor": 0
}
