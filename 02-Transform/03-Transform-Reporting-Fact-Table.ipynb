{
 "cells": [
  {
   "cell_type": "markdown",
   "metadata": {
    "application/vnd.databricks.v1+cell": {
     "cellMetadata": {},
     "inputWidgets": {},
     "nuid": "1ac089b2-b6af-493a-914f-869608dc9a9b",
     "showTitle": false,
     "tableResultSettingsMap": {},
     "title": ""
    }
   },
   "source": [
    "| SOURCE_TABLE_NAME | SOURCE_COLUMN_NAME | REPORTING_TABLE_NAME | REPORTING_COLUMN_NAME | TRANSFORMATION RULE | CONDITIONS |\n",
    "| --- | --- |--- | --- |--- |--- |\n",
    "| silver.daily_pricing_silver\t| DATE_OF_PRICING\t|reporting_fact_daily_pricing_gold| DATE_ID| Lookup Source DATE_OF_PRICING value against CALENDAR_DATE value on reporting_dim_date_gold table and select DATE_ID | Identify New/Changed Records From the Source |\n",
    "| silver.daily_pricing_silver\t| STATE_NAME\t|reporting_fact_daily_pricing_gold| STATE_ID| Lookup Source STATE_NAME value against STATE_NAME value on reporting_dim_state_gold table and select STATE_ID |  |\n",
    "| silver.daily_pricing_silver\t| MARKET_NAME\t|reporting_fact_daily_pricing_gold| MARKET_ID| Lookup Source MARKET_NAME value against MARKET_NAME value on reporting_dim_market_gold table and select MARKET_ID |  |\n",
    "| silver.daily_pricing_silver\t| PRODUCTGROUP_NAME , PRODUCT_NAME\t|reporting_fact_daily_pricing_gold| PRODUCT_ID| Lookup Source PRODUCTGROUP_NAME and PRODUCT_NAME values against PRODUCTGROUP_NAME and PRODUCT_NAME values on reporting_dim_prduct_gold table and select PRODUCT_ID |  |\n",
    "| silver.daily_pricing_silver\t| VARIETY\t|reporting_fact_daily_pricing_gold| VARIETY_ID| Lookup Source VARIETY value against VARIETY value on reporting_dim_variety_gold table and select VARIETY_ID |  |\n",
    "| silver.daily_pricing_silver\t| ROW_ID\t|reporting_fact_daily_pricing_gold| ROW_ID| Direct Mapping |  |\n",
    "| silver.daily_pricing_silver\t| ARRIVAL_IN_TONNES\t|reporting_fact_daily_pricing_gold| ARRIVAL_IN_TONNES| Direct Mapping |  |\n",
    "| silver.daily_pricing_silver\t| MINIMUM_PRICE\t|reporting_fact_daily_pricing_gold| MINIMUM_PRICE| Direct Mapping |  |\n",
    "| silver.daily_pricing_silver\t| MAXIMUM_PRICE\t|reporting_fact_daily_pricing_gold| MAXIMUM_PRICE| Direct Mapping |  |\n",
    "| silver.daily_pricing_silver\t| MODAL_PRICE\t|reporting_fact_daily_pricing_gold| MODAL_PRICE| Direct Mapping |  |\n",
    "| DERIVED\t| DERIVED\t|reporting_fact_daily_pricing_gold\t| lakehouse_inserted_date\t| Load current_timestamp() | |\n",
    "| DERIVED\t| DERIVED\t|reporting_fact_daily_pricing_gold\t| lakehouse_updated_date\t| Load current_timestamp() | |\n"
   ]
  },
  {
   "cell_type": "code",
   "execution_count": 0,
   "metadata": {
    "application/vnd.databricks.v1+cell": {
     "cellMetadata": {
      "byteLimit": 2048000,
      "rowLimit": 10000
     },
     "inputWidgets": {},
     "nuid": "da8d8723-6eba-4c8a-b334-dab51648d986",
     "showTitle": false,
     "tableResultSettingsMap": {},
     "title": ""
    }
   },
   "outputs": [],
   "source": [
    "USE CATALOG pricing_analytics;\n",
    "\n",
    "INSERT INTO gold.reporting_fact_daily_pricing_gold\n",
    "SELECT\n",
    "datedim.DATE_ID,\n",
    "stateDim.STATE_ID,\n",
    "marketDim.MARKET_ID,\n",
    "productDim.PRODUCT_ID,\n",
    "varietyDim.VARIETY_ID,\n",
    "silverFact.ROW_ID,\n",
    "silverFact.ARRIVAL_IN_TONNES,\n",
    "silverFact.MAXIMUM_PRICE,\n",
    "silverFact.MINIMUM_PRICE,\n",
    "silverFact.MODAL_PRICE,\n",
    "current_timestamp(),\n",
    "current_timestamp()\n",
    "FROM silver.daily_pricing_silver silverFact\n",
    "LEFT OUTER JOIN gold.reporting_dim_date_gold dateDim\n",
    "ON silverFact.DATE_OF_PRICING = dateDim.CALENDAR_DATE\n",
    "LEFT OUTER JOIN gold.reporting_dim_state_gold stateDim\n",
    "ON silverFact.STATE_NAME = stateDim.STATE_NAME\n",
    "LEFT OUTER JOIN gold.reporting_dim_market_gold marketDim\n",
    "ON silverFact.MARKET_NAME = marketDim.MARKET_NAME\n",
    "LEFT OUTER JOIN gold.reporting_dim_product_gold productDim\n",
    "ON silverFact.PRODUCT_NAME = productDim.PRODUCT_NAME \n",
    "AND silverFact.PRODUCTGROUP_NAME = productDim.PRODUCTGROUP_NAME\n",
    "LEFT OUTER JOIN gold.reporting_dim_variety_gold varietyDim\n",
    "ON silverFact.VARIETY =varietyDim.VARIETY\n",
    "WHERE silverFact.lakehouse_updated_date>(SELECT nvl(max(PROCESSED_TABLE_DATETIME),'1900-01-01') FROM processrunlogs.DELTALAKEHOUSE_PROCESS_RUNS WHERE process_name ='reportingFactTableLoad' AND process_status= 'Completed')"
   ]
  },
  {
   "cell_type": "code",
   "execution_count": 0,
   "metadata": {
    "application/vnd.databricks.v1+cell": {
     "cellMetadata": {
      "byteLimit": 2048000,
      "rowLimit": 10000
     },
     "inputWidgets": {},
     "nuid": "380a2dd3-8287-4ee1-8d67-38341e0c0278",
     "showTitle": false,
     "tableResultSettingsMap": {},
     "title": ""
    }
   },
   "outputs": [],
   "source": [
    "INSERT INTO pricing_analytics.processrunlogs.deltalakehouse_process_runs(PROCESS_NAME,PROCESSED_TABLE_DATETIME,PROCESS_STATUS)\n",
    "SELECT 'reportingFactTablesLoad',max(lakehouse_updated_date),'Completed' FROM pricing_analytics.silver.daily_pricing_silver"
   ]
  }
 ],
 "metadata": {
  "application/vnd.databricks.v1+notebook": {
   "computePreferences": null,
   "dashboards": [],
   "environmentMetadata": {
    "base_environment": "",
    "environment_version": "2"
   },
   "inputWidgetPreferences": null,
   "language": "sql",
   "notebookMetadata": {
    "pythonIndentUnit": 4
   },
   "notebookName": "03-Transform-Reporting-Fact-Table",
   "widgets": {}
  },
  "language_info": {
   "name": "sql"
  }
 },
 "nbformat": 4,
 "nbformat_minor": 0
}
