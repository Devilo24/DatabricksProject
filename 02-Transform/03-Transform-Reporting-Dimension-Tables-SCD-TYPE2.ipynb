{
 "cells": [
  {
   "cell_type": "code",
   "execution_count": 0,
   "metadata": {
    "application/vnd.databricks.v1+cell": {
     "cellMetadata": {
      "byteLimit": 2048000,
      "rowLimit": 10000
     },
     "inputWidgets": {},
     "nuid": "3b074a50-5430-4f63-8be3-0a67892e06a2",
     "showTitle": false,
     "tableResultSettingsMap": {},
     "title": ""
    }
   },
   "outputs": [],
   "source": [
    "SELECT * FROM pricing_analytics.gold.reporting_dim_product_gold_SCDTYPE1\n",
    "WHERE PRODUCT_NAME='Onion'"
   ]
  },
  {
   "cell_type": "code",
   "execution_count": 0,
   "metadata": {
    "application/vnd.databricks.v1+cell": {
     "cellMetadata": {
      "byteLimit": 2048000,
      "rowLimit": 10000
     },
     "inputWidgets": {},
     "nuid": "a22c3023-9fd0-41d4-8678-108fdac94e1f",
     "showTitle": false,
     "tableResultSettingsMap": {},
     "title": ""
    }
   },
   "outputs": [],
   "source": [
    "SHOW CREATE TABLE pricing_analytics.gold.reporting_dim_product_gold_SCDTYPE1"
   ]
  },
  {
   "cell_type": "code",
   "execution_count": 0,
   "metadata": {
    "application/vnd.databricks.v1+cell": {
     "cellMetadata": {
      "byteLimit": 2048000,
      "rowLimit": 10000
     },
     "inputWidgets": {},
     "nuid": "0339607a-9971-4124-9074-1994070719bf",
     "showTitle": false,
     "tableResultSettingsMap": {},
     "title": ""
    }
   },
   "outputs": [],
   "source": [
    "CREATE TABLE IF NOT EXISTS pricing_analytics.gold.reporting_dim_product_gold_SCDTYPE2 (\n",
    "  PRODUCTGROUP_NAME STRING,\n",
    "  PRODUCT_NAME STRING,\n",
    "  PRODUCT_ID BIGINT,\n",
    "  star_date TIMESTAMP,\n",
    "  end_date TIMESTAMP,\n",
    "  lakehouse_inserted_date TIMESTAMP,\n",
    "  lakehouse_updated_date TIMESTAMP)\n",
    "USING delta"
   ]
  },
  {
   "cell_type": "code",
   "execution_count": 0,
   "metadata": {
    "application/vnd.databricks.v1+cell": {
     "cellMetadata": {
      "byteLimit": 2048000,
      "rowLimit": 10000
     },
     "inputWidgets": {},
     "nuid": "7c6d0915-9849-42c6-80cd-96912ff6371d",
     "showTitle": false,
     "tableResultSettingsMap": {},
     "title": ""
    }
   },
   "outputs": [],
   "source": [
    "SELECt * FROM pricing_analytics.gold.reporting_dim_product_gold_SCDTYPE2"
   ]
  },
  {
   "cell_type": "code",
   "execution_count": 0,
   "metadata": {
    "application/vnd.databricks.v1+cell": {
     "cellMetadata": {
      "byteLimit": 2048000,
      "rowLimit": 10000
     },
     "inputWidgets": {},
     "nuid": "c60b7aae-2b00-4df8-ba13-ce9e108a7e90",
     "showTitle": false,
     "tableResultSettingsMap": {},
     "title": ""
    },
    "jupyter": {
     "outputs_hidden": true
    }
   },
   "outputs": [],
   "source": [
    "UPDATE pricing_analytics.silver.daily_pricing_silver\n",
    "SET PRODUCTGROUP_NAME='Ground Vegetables',\n",
    "lakehouse_updated_date = current_timestamp()\n",
    "WHERE PRODUCT_NAME='Onion'"
   ]
  },
  {
   "cell_type": "code",
   "execution_count": 0,
   "metadata": {
    "application/vnd.databricks.v1+cell": {
     "cellMetadata": {
      "byteLimit": 2048000,
      "rowLimit": 10000
     },
     "inputWidgets": {},
     "nuid": "e2c6b70a-1163-4120-a80d-25ac93042255",
     "showTitle": false,
     "tableResultSettingsMap": {},
     "title": ""
    }
   },
   "outputs": [],
   "source": [
    "SELECT \n",
    " DISTINCT PRODUCT_NAME\n",
    " ,PRODUCTGROUP_NAME\n",
    "FROM pricing_analytics.silver.daily_pricing_silver\n",
    "WHERE PRODUCT_NAME='Onion'"
   ]
  },
  {
   "cell_type": "code",
   "execution_count": 0,
   "metadata": {
    "application/vnd.databricks.v1+cell": {
     "cellMetadata": {
      "byteLimit": 2048000,
      "rowLimit": 10000
     },
     "inputWidgets": {},
     "nuid": "63d0e121-5c3a-4820-8a74-bfb964c26b83",
     "showTitle": false,
     "tableResultSettingsMap": {},
     "title": ""
    }
   },
   "outputs": [],
   "source": [
    "CREATE OR REPLACE TABLE pricing_analytics.silver.reporting_dim_product_stage_1 AS\n",
    "SELECT \n",
    " DISTINCT PRODUCT_NAME\n",
    " ,PRODUCTGROUP_NAME\n",
    "FROM pricing_analytics.silver.daily_pricing_silver\n",
    "WHERE lakehouse_updated_date > (SELECT nvl(max(PROCESSED_TABLE_DATETIME),'1900-01-01') FROM pricing_analytics.processrunlogs.DELTALAKEHOUSE_PROCESS_RUNS \n",
    "WHERE process_name = 'reportingDimensionTablesLoadScdType2' AND process_status = 'Completed' );"
   ]
  },
  {
   "cell_type": "code",
   "execution_count": 0,
   "metadata": {
    "application/vnd.databricks.v1+cell": {
     "cellMetadata": {
      "byteLimit": 2048000,
      "rowLimit": 10000
     },
     "inputWidgets": {},
     "nuid": "1e1d5ae5-d2a9-484b-8e23-3276465645c0",
     "showTitle": false,
     "tableResultSettingsMap": {},
     "title": ""
    }
   },
   "outputs": [],
   "source": [
    "SELECT * FROM pricing_analytics.silver.reporting_dim_product_stage_1"
   ]
  },
  {
   "cell_type": "code",
   "execution_count": 0,
   "metadata": {
    "application/vnd.databricks.v1+cell": {
     "cellMetadata": {
      "byteLimit": 2048000,
      "rowLimit": 10000
     },
     "inputWidgets": {},
     "nuid": "22d1116d-5610-4f34-96f1-b2133eed9fc5",
     "showTitle": false,
     "tableResultSettingsMap": {},
     "title": ""
    }
   },
   "outputs": [],
   "source": [
    "CREATE OR REPLACE TABLE pricing_analytics.silver.reporting_dim_product_stage_2 AS \n",
    "SELECT \n",
    "  silverDim.PRODUCT_NAME\n",
    "  ,silverDim.PRODUCTGROUP_NAME\n",
    "  ,goldDim.PRODUCT_NAME AS GOLD_PRODUCT_NAME\n",
    "  ,goldDim.PRODUCT_ID AS GOLD_PRODUCT_ID\n",
    " ,ROW_NUMBER() OVER (ORDER BY silverDim.PRODUCT_NAME,silverDim.PRODUCTGROUP_NAME) as PRODUCT_ID\n",
    " ,current_timestamp() as lakehouse_inserted_date\n",
    " ,current_timestamp() as lakehouse_updated_date\n",
    "FROM pricing_analytics.silver.reporting_dim_product_stage_1 silverDim\n",
    "LEFT OUTER JOIN pricing_analytics.gold.reporting_dim_product_gold_SCDTYPE2 goldDim\n",
    "ON silverDim.PRODUCT_NAME= goldDim.PRODUCT_NAME\n",
    "AND goldDim.end_date IS NULL\n",
    "WHERE goldDim.PRODUCT_NAME IS NULL OR silverDim.PRODUCTGROUP_NAME <> goldDim.PRODUCTGROUP_NAME"
   ]
  },
  {
   "cell_type": "code",
   "execution_count": 0,
   "metadata": {
    "application/vnd.databricks.v1+cell": {
     "cellMetadata": {
      "byteLimit": 2048000,
      "rowLimit": 10000
     },
     "inputWidgets": {},
     "nuid": "84bf3b62-e511-4441-8cfb-be9414c8748d",
     "showTitle": false,
     "tableResultSettingsMap": {},
     "title": ""
    }
   },
   "outputs": [],
   "source": [
    "SELECT * FROM pricing_analytics.silver.reporting_dim_product_stage_2"
   ]
  },
  {
   "cell_type": "code",
   "execution_count": 0,
   "metadata": {
    "application/vnd.databricks.v1+cell": {
     "cellMetadata": {
      "byteLimit": 2048000,
      "rowLimit": 10000
     },
     "inputWidgets": {},
     "nuid": "b7683f10-5abe-4a90-b28d-9c1277890a17",
     "showTitle": false,
     "tableResultSettingsMap": {},
     "title": ""
    }
   },
   "outputs": [],
   "source": [
    "CREATE OR REPLACE TABLE pricing_analytics.silver.reporting_dim_product_stage_3 AS \n",
    "SELECT\n",
    "  silverDim.PRODUCT_NAME\n",
    "  ,silverDim.PRODUCTGROUP_NAME,\n",
    "  GOLD_PRODUCT_ID\n",
    ", silverDim.PRODUCT_ID + PREV_MAX_SK_ID as PRODUCT_ID\n",
    ",PREV_MAX_SK_ID\n",
    ",CASE WHEN GOLD_PRODUCT_NAME IS NULL THEN 'New' ELSE 'Changed' END AS RECORD_STATUS\n",
    ",current_timestamp() as lakehouse_inserted_date\n",
    ",current_timestamp() as lakehouse_updated_date\n",
    "FROM\n",
    "pricing_analytics.silver.reporting_dim_product_stage_2 silverDim\n",
    "CROSS JOIN (SELECT nvl(MAX(PRODUCT_ID),0) as PREV_MAX_SK_ID FROM pricing_analytics.gold.reporting_dim_product_gold_SCDTYPE2 ) goldDim;"
   ]
  },
  {
   "cell_type": "code",
   "execution_count": 0,
   "metadata": {
    "application/vnd.databricks.v1+cell": {
     "cellMetadata": {
      "byteLimit": 2048000,
      "rowLimit": 10000
     },
     "inputWidgets": {},
     "nuid": "5cd61f8b-fd41-4440-a026-71e56460bf47",
     "showTitle": false,
     "tableResultSettingsMap": {},
     "title": ""
    }
   },
   "outputs": [],
   "source": [
    "SELECT * FROM pricing_analytics.silver.reporting_dim_product_stage_3"
   ]
  },
  {
   "cell_type": "code",
   "execution_count": 0,
   "metadata": {
    "application/vnd.databricks.v1+cell": {
     "cellMetadata": {
      "byteLimit": 2048000,
      "rowLimit": 10000
     },
     "inputWidgets": {},
     "nuid": "011934cf-048d-4774-bf0f-7f73898688c1",
     "showTitle": false,
     "tableResultSettingsMap": {},
     "title": ""
    }
   },
   "outputs": [],
   "source": [
    "MERGE INTO pricing_analytics.gold.reporting_dim_product_gold_SCDTYPE2 goldDim\n",
    "USING pricing_analytics.silver.reporting_dim_product_stage_3 silverDim\n",
    "ON goldDim.PRODUCT_ID = silverDim.GOLD_PRODUCT_ID\n",
    "WHEN MATCHED THEN \n",
    "UPDATE SET goldDim.end_date=current_timestamp()\n",
    "           ,goldDim.lakehouse_updated_date=current_timestamp()\n",
    "WHEN NOT MATCHED THEN\n",
    "INSERT (PRODUCTGROUP_NAME,PRODUCT_NAME,PRODUCT_ID,star_date,end_date,lakehouse_inserted_date,lakehouse_updated_date)\n",
    "VALUES (silverDim.PRODUCTGROUP_NAME,silverDim.PRODUCT_NAME,silverDim.PRODUCT_ID,current_timestamp(),NULL,current_timestamp(),current_timestamp())\n"
   ]
  },
  {
   "cell_type": "code",
   "execution_count": 0,
   "metadata": {
    "application/vnd.databricks.v1+cell": {
     "cellMetadata": {
      "byteLimit": 2048000,
      "rowLimit": 10000
     },
     "inputWidgets": {},
     "nuid": "c3bc26dd-17bb-45f1-b6cc-a435a7231c37",
     "showTitle": false,
     "tableResultSettingsMap": {},
     "title": ""
    }
   },
   "outputs": [],
   "source": [
    "INSERT INTO pricing_analytics.gold.reporting_dim_product_gold_SCDTYPE2\n",
    "SELECT\n",
    "PRODUCTGROUP_NAME\n",
    ",PRODUCT_NAME\n",
    ",PRODUCT_ID\n",
    ",current_timestamp()\n",
    ",NULL\n",
    ",current_timestamp()\n",
    ",current_timestamp()\n",
    "FROM pricing_analytics.silver.reporting_dim_product_stage_3\n",
    "WHERE RECORD_STATUS='Changed'"
   ]
  },
  {
   "cell_type": "code",
   "execution_count": 0,
   "metadata": {
    "application/vnd.databricks.v1+cell": {
     "cellMetadata": {
      "byteLimit": 2048000,
      "rowLimit": 10000
     },
     "inputWidgets": {},
     "nuid": "6c8c3327-41d0-4a63-8d24-600b4d93fcde",
     "showTitle": false,
     "tableResultSettingsMap": {},
     "title": ""
    }
   },
   "outputs": [],
   "source": [
    "SELECT * FROM pricing_analytics.gold.reporting_dim_product_gold_SCDTYPE2\n",
    "WHERE PRODUCT_NAME='Onion'"
   ]
  },
  {
   "cell_type": "code",
   "execution_count": 0,
   "metadata": {
    "application/vnd.databricks.v1+cell": {
     "cellMetadata": {
      "byteLimit": 2048000,
      "rowLimit": 10000
     },
     "inputWidgets": {},
     "nuid": "43b54de0-9c5e-47e3-9f01-e376c5fe20a3",
     "showTitle": false,
     "tableResultSettingsMap": {},
     "title": ""
    }
   },
   "outputs": [],
   "source": [
    "INSERT INTO  pricing_analytics.processrunlogs.DELTALAKEHOUSE_PROCESS_RUNS(PROCESS_NAME,PROCESSED_TABLE_DATETIME,PROCESS_STATUS)\n",
    "SELECT 'reportingDimensionTablesLoadScdType2' , max(lakehouse_updated_date) ,'Completed' FROM pricing_analytics.silver.daily_pricing_silver"
   ]
  }
 ],
 "metadata": {
  "application/vnd.databricks.v1+notebook": {
   "computePreferences": null,
   "dashboards": [],
   "environmentMetadata": {
    "base_environment": "",
    "environment_version": "1"
   },
   "inputWidgetPreferences": null,
   "language": "sql",
   "notebookMetadata": {
    "pythonIndentUnit": 4
   },
   "notebookName": "03-Transform-Reporting-Dimension-Tables-SCD-TYPE2",
   "widgets": {}
  },
  "language_info": {
   "name": "sql"
  }
 },
 "nbformat": 4,
 "nbformat_minor": 0
}
