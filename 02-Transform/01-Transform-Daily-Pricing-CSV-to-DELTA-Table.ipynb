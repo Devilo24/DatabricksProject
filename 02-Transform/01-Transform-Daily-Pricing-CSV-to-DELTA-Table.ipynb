{
 "cells": [
  {
   "cell_type": "code",
   "execution_count": 0,
   "metadata": {
    "application/vnd.databricks.v1+cell": {
     "cellMetadata": {
      "byteLimit": 2048000,
      "rowLimit": 10000
     },
     "inputWidgets": {},
     "nuid": "181824ca-f2c9-4504-b19c-c2eb712bad40",
     "showTitle": false,
     "tableResultSettingsMap": {},
     "title": ""
    }
   },
   "outputs": [],
   "source": [
    "USE CATALOG pricing_analytics;\n",
    "INSERT INTO silver.daily_pricing_silver\n",
    "SELECT\n",
    "to_date(DATE_OF_PRICING,'dd/MM/yyyy'),\n",
    "cast(ROW_ID AS bigint),\n",
    "STATE_NAME,\n",
    "MARKET_NAME,\n",
    "PRODUCTGROUP_NAME,\n",
    "PRODUCT_NAME,\n",
    "VARIETY,\n",
    "ORIGIN,\n",
    "cast(ARRIVAL_IN_TONNES as decimal(18,2)),\n",
    "cast(MINIMUM_PRICE as decimal(36,2)),\n",
    "cast(MAXIMUM_PRICE as decimal(36,2)),\n",
    "cast(MODAL_PRICE as decimal(36,2)),\n",
    "source_file_load_date,\n",
    "current_timestamp(),\n",
    "current_timestamp()\n",
    "FROM pricing_analytics.bronze.daily_pricing\n",
    "WHERE source_file_load_date > (SELECT nvl(max(PROCESSED_TABLE_DATETIME),'1900-01-01') FROM processrunlogs.deltalakehouse_process_runs WHERE PROCESS_NAME = 'daily_pricing_silver' AND PROCESS_STATUS = 'Completed')"
   ]
  },
  {
   "cell_type": "code",
   "execution_count": 0,
   "metadata": {
    "application/vnd.databricks.v1+cell": {
     "cellMetadata": {
      "byteLimit": 2048000,
      "rowLimit": 10000
     },
     "inputWidgets": {},
     "nuid": "c8c5cd24-dba0-402c-8ff1-ffc023520772",
     "showTitle": false,
     "tableResultSettingsMap": {},
     "title": ""
    }
   },
   "outputs": [],
   "source": [
    "INSERT INTO pricing_analytics.processrunlogs.deltalakehouse_process_runs(PROCESS_NAME,PROCESSED_TABLE_DATETIME,PROCESS_STATUS)\n",
    "SELECT 'daily_pricing_silver',max(source_file_load_date),'Completed' FROM pricing_analytics.silver.daily_pricing_silver"
   ]
  }
 ],
 "metadata": {
  "application/vnd.databricks.v1+notebook": {
   "computePreferences": null,
   "dashboards": [],
   "environmentMetadata": {
    "base_environment": "",
    "environment_version": "2"
   },
   "inputWidgetPreferences": null,
   "language": "sql",
   "notebookMetadata": {
    "pythonIndentUnit": 4
   },
   "notebookName": "01-Transform-Daily-Pricing-CSV-to-DELTA-Table",
   "widgets": {}
  },
  "language_info": {
   "name": "sql"
  }
 },
 "nbformat": 4,
 "nbformat_minor": 0
}
